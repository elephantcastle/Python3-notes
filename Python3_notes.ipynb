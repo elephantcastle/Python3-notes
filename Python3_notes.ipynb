{
  "nbformat": 4,
  "nbformat_minor": 0,
  "metadata": {
    "colab": {
      "provenance": [],
      "authorship_tag": "ABX9TyM/nAvGEXVz3SsCGa4/XxLY",
      "include_colab_link": true
    },
    "kernelspec": {
      "name": "python3",
      "display_name": "Python 3"
    },
    "language_info": {
      "name": "python"
    }
  },
  "cells": [
    {
      "cell_type": "markdown",
      "metadata": {
        "id": "view-in-github",
        "colab_type": "text"
      },
      "source": [
        "<a href=\"https://colab.research.google.com/github/elephantcastle/Python3-notes/blob/main/Python3_notes.ipynb\" target=\"_parent\"><img src=\"https://colab.research.google.com/assets/colab-badge.svg\" alt=\"Open In Colab\"/></a>"
      ]
    },
    {
      "cell_type": "markdown",
      "source": [
        "#Functions"
      ],
      "metadata": {
        "id": "jL6_P7dgOjNZ"
      }
    },
    {
      "cell_type": "markdown",
      "source": [
        "####Closures"
      ],
      "metadata": {
        "id": "cN-v0rbqG0Ls"
      }
    },
    {
      "cell_type": "markdown",
      "source": [
        "####Default Arguments"
      ],
      "metadata": {
        "id": "jKx1e2gMPkY7"
      }
    },
    {
      "cell_type": "code",
      "source": [
        "def func(x, items=[]):\n",
        "  items.append(x)\n",
        "  return items\n",
        "func(1) # returns [1]\n",
        "func(2) # returns [1, 2]\n",
        "func(3) # returns [1, 2, 3]"
      ],
      "metadata": {
        "colab": {
          "base_uri": "https://localhost:8080/"
        },
        "id": "GfiDTe93OmRe",
        "outputId": "5dfcd10f-05a6-4fcc-d1dd-1110b67b0f97"
      },
      "execution_count": 1,
      "outputs": [
        {
          "output_type": "execute_result",
          "data": {
            "text/plain": [
              "[1, 2, 3]"
            ]
          },
          "metadata": {},
          "execution_count": 1
        }
      ]
    },
    {
      "cell_type": "markdown",
      "source": [
        "####Variadic Arguments"
      ],
      "metadata": {
        "id": "_RLsu4ekPIEN"
      }
    },
    {
      "cell_type": "code",
      "source": [
        "def product(first, *args):\n",
        "  result = first\n",
        "  for x in args: # args is a tuple, the extra elements are placed in there\n",
        "    result = result * x\n",
        "  return result"
      ],
      "metadata": {
        "id": "-QsPbWvoPNgM"
      },
      "execution_count": null,
      "outputs": []
    },
    {
      "cell_type": "markdown",
      "source": [
        "Default parameter values are evaluated once when the function is first\n",
        "defined, not each time the function is called.\n",
        "\n",
        "It is better to use immutable\n",
        "objects for default argument values—numbers, strings, Booleans, None."
      ],
      "metadata": {
        "id": "6_GCvCiIOl1e"
      }
    },
    {
      "cell_type": "markdown",
      "source": [
        "####Keyword Arguments"
      ],
      "metadata": {
        "id": "MrvmbZVbPw7V"
      }
    },
    {
      "cell_type": "markdown",
      "source": [
        "Order of the arguments doesn’t matter as\n",
        "long as each required parameter gets a single value.\n",
        "\n",
        "If there are positional they must appear first."
      ],
      "metadata": {
        "id": "prD1kEV_P7f3"
      }
    },
    {
      "cell_type": "code",
      "source": [
        "def func(w, x, y, z):\n",
        "  pass\n",
        "  # statements\n",
        "# Keyword argument invocation\n",
        "func(x=3, y=22, w='hello', z=[1, 2])\n",
        "func('hello', 3, z=[1, 2], y=22)\n",
        "func(3, 22, w='hello', z=[1, 2]) # TypeError. Multiple values for w"
      ],
      "metadata": {
        "id": "CYEiuNjdPxJR"
      },
      "execution_count": null,
      "outputs": []
    },
    {
      "cell_type": "markdown",
      "source": [
        "If desired, it is possible to force the use of keyword arguments. This is done by listing parameters after a * argument or just by including a single * in the definition."
      ],
      "metadata": {
        "id": "05FIF-jkQ7j4"
      }
    },
    {
      "cell_type": "code",
      "source": [
        "def read_data(filename, *, debug=False):\n",
        "  pass\n",
        "\n",
        "data = read_data('Data.csv', True) # NO. TypeError\n",
        "data = read_data('Data.csv', debug=True) # Yes."
      ],
      "metadata": {
        "id": "bN2eMc3uRHBy"
      },
      "execution_count": null,
      "outputs": []
    },
    {
      "cell_type": "markdown",
      "source": [
        "####Variadic Keyword Arguments"
      ],
      "metadata": {
        "id": "iOnSpak1RTHY"
      }
    },
    {
      "cell_type": "code",
      "source": [
        "def make_table(data, **parms):\n",
        "  # Get configuration parameters from parms (a dict)\n",
        "  pass\n",
        "items = [1, 2, 3]\n",
        "make_table(items, fgcolor='black', bgcolor='white', border=1,borderstyle='grooved', cellpadding=10, width=400)"
      ],
      "metadata": {
        "id": "2ETDtsZDRSzE"
      },
      "execution_count": 5,
      "outputs": []
    },
    {
      "cell_type": "markdown",
      "source": [
        "####Functions Accepting All Inputs"
      ],
      "metadata": {
        "id": "byBPlQOPRvub"
      }
    },
    {
      "cell_type": "code",
      "source": [
        "def func(*args, **kwargs):\n",
        "  # args is a tuple of positional args\n",
        "  # kwargs is dictionary of keyword args\n",
        "  pass"
      ],
      "metadata": {
        "id": "7bRmtGmLR3CK"
      },
      "execution_count": null,
      "outputs": []
    },
    {
      "cell_type": "markdown",
      "source": [
        "####Positional-Only Arguments"
      ],
      "metadata": {
        "id": "9eLZ4uC3RvWF"
      }
    },
    {
      "cell_type": "code",
      "source": [
        "def func(x, y, /):\n",
        "  pass\n",
        "func(1, 2) # Ok\n",
        "func(1, y=2) # Error"
      ],
      "metadata": {
        "id": "jMEjL-ARSiIs"
      },
      "execution_count": null,
      "outputs": []
    }
  ]
}