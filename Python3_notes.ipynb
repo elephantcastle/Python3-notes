{
  "nbformat": 4,
  "nbformat_minor": 0,
  "metadata": {
    "colab": {
      "provenance": [],
      "collapsed_sections": [
        "AJlq-KLiHajg",
        "1qr6cYxNTivq",
        "d-LB5syOTpf-",
        "MV0luuO0UvfW",
        "iZinCR4od0xJ",
        "jL6_P7dgOjNZ",
        "594t8bsgPrCs"
      ],
      "authorship_tag": "ABX9TyMNDOJCMitH4nDbh5LOGcOk",
      "include_colab_link": true
    },
    "kernelspec": {
      "name": "python3",
      "display_name": "Python 3"
    },
    "language_info": {
      "name": "python"
    }
  },
  "cells": [
    {
      "cell_type": "markdown",
      "metadata": {
        "id": "view-in-github",
        "colab_type": "text"
      },
      "source": [
        "<a href=\"https://colab.research.google.com/github/mdandre89/Python3-notes/blob/main/Python3_notes.ipynb\" target=\"_parent\"><img src=\"https://colab.research.google.com/assets/colab-badge.svg\" alt=\"Open In Colab\"/></a>"
      ]
    },
    {
      "cell_type": "markdown",
      "source": [
        "Python follows imperative programming. That is, programs are made up of statements that execute one after the other in the order they appear within a source file."
      ],
      "metadata": {
        "id": "U2a9RXW7f_41"
      }
    },
    {
      "cell_type": "markdown",
      "source": [
        "#Operators, Expressions, and Data Manipulation"
      ],
      "metadata": {
        "id": "K698GianG-X5"
      }
    },
    {
      "cell_type": "markdown",
      "source": [
        "Expression: Expression represents a computation that evaluates to a concrete value. It consists of a combination of literals, names, operators, and function or method calls. An expression can always appear on the right-hand side of an assignment statement, be used as an operand in operations in other expressions, or be passed as a function argument."
      ],
      "metadata": {
        "id": "bx8L94oeHJCD"
      }
    },
    {
      "cell_type": "markdown",
      "source": [
        "A literal is a value typed directly into a program such as 42, 4.2, or 'forty-two'. Boolean literals are written as True and False."
      ],
      "metadata": {
        "id": "hq5zxZNlHXmA"
      }
    },
    {
      "cell_type": "markdown",
      "source": [
        "####Object Comparison"
      ],
      "metadata": {
        "id": "AJlq-KLiHajg"
      }
    },
    {
      "cell_type": "markdown",
      "source": [
        "Object can be compared even if their are not the same type"
      ],
      "metadata": {
        "id": "WsCv7VeQHtH_"
      }
    },
    {
      "cell_type": "code",
      "source": [
        "1.0 == 1  #Object can be compared even if their are not the same"
      ],
      "metadata": {
        "colab": {
          "base_uri": "https://localhost:8080/"
        },
        "id": "VhM6wX95Hy5Y",
        "outputId": "ffc515fc-acf7-4e93-b939-29e3d16227a5"
      },
      "execution_count": 40,
      "outputs": [
        {
          "output_type": "execute_result",
          "data": {
            "text/plain": [
              "True"
            ]
          },
          "metadata": {},
          "execution_count": 40
        }
      ]
    },
    {
      "cell_type": "code",
      "source": [
        "d = {'a':1}\n",
        "e = {'a':1}\n",
        "d == e"
      ],
      "metadata": {
        "colab": {
          "base_uri": "https://localhost:8080/"
        },
        "id": "dFBNJyhHIIeH",
        "outputId": "91470c31-a677-43c8-c437-d152307c4fa2"
      },
      "execution_count": 41,
      "outputs": [
        {
          "output_type": "execute_result",
          "data": {
            "text/plain": [
              "True"
            ]
          },
          "metadata": {},
          "execution_count": 41
        }
      ]
    },
    {
      "cell_type": "code",
      "source": [
        "[1, 2, 3] == [1, 2, 3]"
      ],
      "metadata": {
        "colab": {
          "base_uri": "https://localhost:8080/"
        },
        "id": "tGNv1tk0JZju",
        "outputId": "2dd054e1-5a6b-40b7-af64-bb0490123f0d"
      },
      "execution_count": 42,
      "outputs": [
        {
          "output_type": "execute_result",
          "data": {
            "text/plain": [
              "True"
            ]
          },
          "metadata": {},
          "execution_count": 42
        }
      ]
    },
    {
      "cell_type": "markdown",
      "source": [
        "The identity operators (x is y and x is not y) test two values to see whether they\n",
        "refer to literally the same object in memory (e.g., id(x) == id(y))."
      ],
      "metadata": {
        "id": "jw3gGc_UJRbn"
      }
    },
    {
      "cell_type": "code",
      "source": [
        "a = [1, 2, 3]\n",
        "b = [1, 2, 3]\n",
        "a is b #False\n",
        "a == b #True\n",
        "c = a\n",
        "c is a #True"
      ],
      "metadata": {
        "colab": {
          "base_uri": "https://localhost:8080/"
        },
        "id": "WYlnf7amJfVP",
        "outputId": "81fe7ad9-f644-46b4-d65e-bba9e45aedc9"
      },
      "execution_count": 43,
      "outputs": [
        {
          "output_type": "execute_result",
          "data": {
            "text/plain": [
              "True"
            ]
          },
          "metadata": {},
          "execution_count": 43
        }
      ]
    },
    {
      "cell_type": "markdown",
      "source": [
        "####Set"
      ],
      "metadata": {
        "id": "omxux81AJe_M"
      }
    },
    {
      "cell_type": "markdown",
      "source": [
        "Operation\n",
        "\n",
        "\n",
        "`s | t` Union of s and t\n",
        "\n",
        "`s & t` Intersection of s and t\n",
        "\n",
        "`s – t` Set difference (items in s, not in t)\n",
        "\n",
        "`s ^ t` Symmetric difference (items not in both s or t)\n",
        "\n",
        "`len(s)` Number of items in the set\n",
        "\n",
        "`item in s`, `item not in s` Membership test\n",
        "\n",
        "`s.add(item)` Add an item to set s\n",
        "\n",
        "`s.remove(item)` Remove an item from s if it exists (otherwise an error)\n",
        "\n",
        "`s.discard(item)` Discard an item from s if it exists"
      ],
      "metadata": {
        "id": "eT9cLhjmOMdh"
      }
    },
    {
      "cell_type": "markdown",
      "source": [
        "#Program Structure and Control Flow"
      ],
      "metadata": {
        "id": "1qr6cYxNTivq"
      }
    },
    {
      "cell_type": "markdown",
      "source": [
        "####Loops"
      ],
      "metadata": {
        "id": "d-LB5syOTpf-"
      }
    },
    {
      "cell_type": "markdown",
      "source": [
        "These 2 apply only to the innermost loop\n",
        "\n",
        "`continue` To jump to the next iteration of a loop (skipping the remainder of the loop body), use the continue statement.\n",
        "\n",
        "`break` jump out of the loop altogether\n",
        "\n",
        "\n",
        "\n",
        "This pattern can be used when breaking out of loop; the else kics in only if there is a `break`.\n",
        "```\n",
        "for of\n",
        "...\n",
        "...\n",
        "else:\n",
        "```\n",
        "\n"
      ],
      "metadata": {
        "id": "Z3Q26dswTzRm"
      }
    },
    {
      "cell_type": "markdown",
      "source": [
        "####Exceptions"
      ],
      "metadata": {
        "id": "MV0luuO0UvfW"
      }
    },
    {
      "cell_type": "markdown",
      "source": [
        "`e` containts:\n",
        "\n",
        "`e.args` The tuple of arguments supplied when raising the exception. In most cases, this is a one-item tuple with a string describing the error. For OSError exceptions, the value is a 2-tuple or 3-tuple containing an integer error number, string error message, and\n",
        "an optional filename.\n",
        "\n",
        "`e.__cause__` Previous exception if the exception was intentionally raised in response to handling\n",
        "another exception. See the later section on chained exceptions.\n",
        "\n",
        "`e.__context__` Previous exception if the exception was raised while handling another exception.\n",
        "\n",
        "`e.__traceback__` Stack traceback object associated with the exception.\n"
      ],
      "metadata": {
        "id": "MAtPfgzhUybH"
      }
    },
    {
      "cell_type": "markdown",
      "source": [
        "`raise` by itself reraise the exception\n",
        "\n",
        "\n",
        "```\n",
        "try:\n",
        "  file = open('foo.txt', 'rt')\n",
        "except FileNotFoundError:\n",
        "  print(\"Well, that didn't work.\")\n",
        "  raise # Reraises current exception\n",
        "```"
      ],
      "metadata": {
        "id": "bG5rOELGboVw"
      }
    },
    {
      "cell_type": "markdown",
      "source": [
        "\n",
        "```\n",
        "try:\n",
        "  do something\n",
        "except (TypeError, ValueError) as e:\n",
        "  # Handle Type or Value errors\n",
        "```\n",
        "\n",
        "To ignore an exception, use the pass statement as follows:\n",
        "```\n",
        "try:\n",
        "  do something\n",
        "except ValueError:\n",
        "  pass # Do nothing (shrug)\n",
        "```\n",
        "\n"
      ],
      "metadata": {
        "id": "bk6pN8QZVmTp"
      }
    },
    {
      "cell_type": "markdown",
      "source": [
        "To catch all exceptions except those related to program exit, use Exception like this:\n",
        "\n",
        "```\n",
        "try:\n",
        "  do something\n",
        "except Exception as e:\n",
        "  print(f'An error occurred : {e!r}')\n",
        "```\n",
        "\n"
      ],
      "metadata": {
        "id": "bRP7F2poV4nm"
      }
    },
    {
      "cell_type": "markdown",
      "source": [
        "The try statement also supports an else clause, which must follow the last except clause. This code is executed if the code in the try block doesn’t raise an exception. Here’s an example:\n",
        "\n",
        "```\n",
        "try:\n",
        "  file = open('foo.txt', 'rt')\n",
        "  except FileNotFoundError as e:\n",
        "  print(f'Unable to open foo : {e}')\n",
        "  data = ''\n",
        "else:\n",
        "  data = file.read()\n",
        "  file.close()\n",
        "```\n",
        "\n"
      ],
      "metadata": {
        "id": "A_PPRtRzWMnC"
      }
    },
    {
      "cell_type": "markdown",
      "source": [
        "The finally statement defines a cleanup action that must execute regardless of what happens in a try-except block.\n",
        "The finally clause isn’t used to catch errors but code that must always\n",
        "be executed, regardless of whether an error occurs.\n",
        "\n",
        "If there are errors then `except` will handle and then `finally` will kick in.\n",
        "\n",
        "```\n",
        "file = open('foo.txt', 'rt')\n",
        "try:\n",
        "  # Do some stuff\n",
        "  ...\n",
        "finally:\n",
        "  file.close()\n",
        "```"
      ],
      "metadata": {
        "id": "mu3bxukrXFIk"
      }
    },
    {
      "cell_type": "markdown",
      "source": [
        "It helps to realize that exceptions are organized into a hierarchy via inheritance. Instead\n",
        "of targeting specific errors, it might be easier to focus on more general categories of errors."
      ],
      "metadata": {
        "id": "ZvpGdO-_Xt7f"
      }
    },
    {
      "cell_type": "markdown",
      "source": [
        "SystemExit exception is used to make a program terminate on purpose. As an\n",
        "argument, you can either provide an integer exit code or a string message.\n",
        "\n",
        "\n",
        "```\n",
        "import sys\n",
        "if len(sys.argv) != 2:\n",
        "  raise SystemExit(f'Usage: {sys.argv[0]} filename)\n",
        "filename = sys.argv[1]\n",
        "```\n",
        "\n"
      ],
      "metadata": {
        "id": "IujwGcZpX_hZ"
      }
    },
    {
      "cell_type": "markdown",
      "source": [
        "Custom defined exceptions\n",
        "\n",
        "```\n",
        "class DeviceError(Exception):\n",
        "  def __init__(self, errno, msg):\n",
        "    self.args = (errno, msg)\n",
        "    self.errno = errno\n",
        "    self.errmsg = msg\n",
        "```\n",
        "\n"
      ],
      "metadata": {
        "id": "3_BIs02-Ya5S"
      }
    },
    {
      "cell_type": "markdown",
      "source": [
        "Control Flow Exceptions, used to handle the control flow instead of simply handle errors, they inherit from BaseException instead of Exception\n",
        "\n",
        "```\n",
        "SystemExit #Raised to indicate program exit\n",
        "KeyboardInterrupt #Raised when a program is interrupted via Control-C\n",
        "StopIteration #Raised to signal the end of iteration\n",
        "```\n",
        "\n",
        "\n"
      ],
      "metadata": {
        "id": "2U1HfTnyZHW6"
      }
    },
    {
      "cell_type": "markdown",
      "source": [
        "####Context Manager"
      ],
      "metadata": {
        "id": "iZinCR4od0xJ"
      }
    },
    {
      "cell_type": "markdown",
      "source": [
        "when `with` obj executes `obj.__enter__()` signals than a new context is executed, then it reaches `obj.__exit__(type,value, traceback)` --> the 3 arguments are `None` if no Exception is raised. if the value of `obj.__exit__()` is True is not further propagated.\n",
        "\n",
        "\n",
        "\n",
        "\n",
        "```\n",
        "with open('debuglog', 'wt') as file:\n",
        "  file.write('Debugging\\n')\n",
        "  statements\n",
        "  file.write('Done\\n')\n",
        "```\n",
        "\n"
      ],
      "metadata": {
        "id": "dFGfOahzd3vz"
      }
    },
    {
      "cell_type": "code",
      "source": [
        "class ListTransaction:\n",
        "  def __init__(self,thelist):\n",
        "    self.thelist = thelist\n",
        "  def __enter__(self):\n",
        "    self.workingcopy = list(self.thelist)\n",
        "    return self.workingcopy\n",
        "  def __exit__(self, type, value, tb):\n",
        "    if type is None:\n",
        "      self.thelist[:] = self.workingcopy\n",
        "    return\n",
        "\n",
        "items = [1,2,3]\n",
        "with ListTransaction(items) as working:\n",
        "  working.append(4)\n",
        "  working.append(5)\n",
        "print(items) # Produces [1,2,3,4,5]\n",
        "\n",
        "try:\n",
        "  with ListTransaction(items) as working:\n",
        "    working.append(6)\n",
        "    working.append(7)\n",
        "    raise RuntimeError(\"We're hosed!\")\n",
        "except RuntimeError:\n",
        "  pass\n",
        "print(items) # Produces [1,2,3,4,5]"
      ],
      "metadata": {
        "colab": {
          "base_uri": "https://localhost:8080/"
        },
        "id": "UNH8M8S5fFxW",
        "outputId": "394cf9f1-fd8f-4a1f-ab8e-3c9978bf05c6"
      },
      "execution_count": 73,
      "outputs": [
        {
          "output_type": "stream",
          "name": "stdout",
          "text": [
            "[1, 2, 3, 4, 5]\n",
            "[1, 2, 3, 4, 5]\n"
          ]
        }
      ]
    },
    {
      "cell_type": "markdown",
      "source": [
        "#Objects, Types, and Protocols"
      ],
      "metadata": {
        "id": "oWXb0lL22GBu"
      }
    },
    {
      "cell_type": "markdown",
      "source": [
        "All objects in Python are said to be first-class. This means that all objects that can be assigned to a name can also be treated as data.\n",
        "\n",
        "Each object has an identity, a type\n",
        "(also known as its class), and a value\n",
        "\n",
        "`isinstance(instance, type)` better than `type` because he can handle subtype and check multiple types `isinstance(items, (list, tuple))`\n",
        "\n",
        "Defined by protocols, which are informal standards that allow objects to interact with Python’s core features in a flexible and powerful way;\n",
        "The Callable Protocol\n",
        "\n",
        "    Purpose: Allows instances of classes to be called like functions.\n",
        "    Requirement: Implement the __call__() method in the class.\n",
        "    Example: This protocol is helpful for custom function-like objects or for creating factories and decorators\n"
      ],
      "metadata": {
        "id": "zaDBtctY2Otu"
      }
    },
    {
      "cell_type": "markdown",
      "source": [
        "When an object’s reference count reaches zero, it is garbage-collected. However, in some cases a circular dependency may exist in a collection of objects that are no longer in use.\n",
        "\n",
        "`gc.collect()` to invoke it on command."
      ],
      "metadata": {
        "id": "Awi3tmbdEVEN"
      }
    },
    {
      "cell_type": "code",
      "source": [
        "import sys\n",
        "a = 37 # Creates an object with value 37\n",
        "b = a # Increases reference count on 37\n",
        "c = []\n",
        "c.append(b) # Increases reference count on 37\n",
        "del a # Decrease reference count of 37\n",
        "b = 42 # Decrease reference count of 37\n",
        "c[0] = 2.0 # Decrease reference count of 37\n",
        "a = 37\n",
        "sys.getrefcount(a)"
      ],
      "metadata": {
        "colab": {
          "base_uri": "https://localhost:8080/"
        },
        "id": "v2qkST1JD50-",
        "outputId": "d56fdfe6-7576-435b-dffd-4a84a10b6632"
      },
      "execution_count": 9,
      "outputs": [
        {
          "output_type": "execute_result",
          "data": {
            "text/plain": [
              "52"
            ]
          },
          "metadata": {},
          "execution_count": 9
        }
      ]
    },
    {
      "cell_type": "markdown",
      "source": [
        "####References and Copies"
      ],
      "metadata": {
        "id": "PIUUZtPBHHBy"
      }
    },
    {
      "cell_type": "markdown",
      "source": [
        "It depends if the obj is mutable(list, dict, set) or immutable(string, number, bool, tuple):\n",
        "- copy by reference; shallow copy, need `copy.deepcopy` to actually copy(unadvisable: as it is slow and doesn't work for obj that have runtime state: file, network, thread, generators )\n",
        "- copy by value"
      ],
      "metadata": {
        "id": "gfppPFKoHMJK"
      }
    },
    {
      "cell_type": "markdown",
      "source": [
        "####None"
      ],
      "metadata": {
        "id": "ZKe6ub1PLKVY"
      }
    },
    {
      "cell_type": "markdown",
      "source": [
        " `None` is stored as a singleton—that is, there is only one None value in the interpreter. Therefore, a common way to test a value against `None` is to use the is operator like this:\n",
        "\n",
        "```\n",
        "if value is None:\n",
        "  statements\n",
        "  ...\n",
        "```\n",
        "\n"
      ],
      "metadata": {
        "id": "yyKItuYSK_Uq"
      }
    },
    {
      "cell_type": "markdown",
      "source": [
        "The convention is for __repr__() to return an expression string\n",
        "that can be evaluated to re-create the object using eval()\n",
        "\n",
        "\n",
        "If a string expression cannot be created, the convention is for __repr__() to return a\n",
        "string of the form <...message...>, as shown here:\n",
        "```\n",
        "f = open('foo.txt')\n",
        "a = repr(f)\n",
        "# a = \"<_io.TextIOWrapper name='foo.txt' mode='r' encoding='UTF-8'>\n",
        "```\n",
        "\n"
      ],
      "metadata": {
        "id": "TMW7jQXzNlVk"
      }
    },
    {
      "cell_type": "markdown",
      "source": [
        "This example might seem surprising but it reflects the fact that integers don’t actually know anything about floating-point numbers. However, floating-point numbers do know about integers—as integers are, mathematically, a special kind of floating-point numbers.\n",
        "Thus, the reversed operand produces the correct answer.\n",
        "\n",
        "```\n",
        "a = 42 # int\n",
        "b = 3.7 # float\n",
        "a.__add__(b) # NotImplemented\n",
        "b.__radd__(a) # 45.7\n",
        "```\n",
        "\n"
      ],
      "metadata": {
        "id": "2WBxn7lMP72H"
      }
    },
    {
      "cell_type": "markdown",
      "source": [
        "\n",
        "Container Protocol\n",
        "```\n",
        "__len__(self) Returns the length of self\n",
        "__getitem__(self, key) Returns self[key]\n",
        "__setitem__(self, key, value) Sets self[key] = value\n",
        "__delitem__(self, key) Deletes self[key]\n",
        "__contains__(self, obj) obj in self\n",
        "```\n",
        "\n"
      ],
      "metadata": {
        "id": "LuGOrGuuU9Nu"
      }
    },
    {
      "cell_type": "markdown",
      "source": [
        "Iteration Protocol\n",
        "```\n",
        "class FRange:\n",
        "  def __init__(self, start, stop, step):\n",
        "    self.start = start\n",
        "    self.stop = stop\n",
        "    self.step = step\n",
        "  def __iter__(self):\n",
        "    x = self.start\n",
        "    while x < self.stop:\n",
        "      yield x\n",
        "      x += self.step\n",
        "```\n",
        "\n"
      ],
      "metadata": {
        "id": "23siYRfQVVs2"
      }
    },
    {
      "cell_type": "markdown",
      "source": [
        "Context Manager Protocol\n",
        "\n",
        "\n",
        "\n",
        "\n",
        "```\n",
        "with context [ as var]:\n",
        "  statements\n",
        "```\n",
        "\n",
        "\n",
        "```\n",
        "__enter__(self) Called when entering a new context. The return value is placed in the variable listed with the as specifier to\n",
        "the with statement.\n",
        "__exit__(self, type, value, tb) Called when leaving a context. If an exception occurred, type, value, and tb have the exception type, value, and traceback information.\n",
        "```\n",
        "\n"
      ],
      "metadata": {
        "id": "0x6SX1nPWU3j"
      }
    },
    {
      "cell_type": "markdown",
      "source": [
        "#Functions"
      ],
      "metadata": {
        "id": "jL6_P7dgOjNZ"
      }
    },
    {
      "cell_type": "markdown",
      "source": [
        "####Default Arguments"
      ],
      "metadata": {
        "id": "jKx1e2gMPkY7"
      }
    },
    {
      "cell_type": "markdown",
      "source": [
        "Default parameter values are evaluated once when the function is first defined, not each time the function is called. This often leads to surprising behavior if mutable objects are used as a default:"
      ],
      "metadata": {
        "id": "hcyYo3ZWYknw"
      }
    },
    {
      "cell_type": "code",
      "source": [
        "def func(x, items=[]):\n",
        "  items.append(x)\n",
        "  return items\n",
        "func(1) # returns [1]\n",
        "func(2) # returns [1, 2]\n",
        "func(3) # returns [1, 2, 3]"
      ],
      "metadata": {
        "colab": {
          "base_uri": "https://localhost:8080/"
        },
        "id": "GfiDTe93OmRe",
        "outputId": "09cbb04a-cf5d-4f95-9a64-d8786a957fb9"
      },
      "execution_count": 59,
      "outputs": [
        {
          "output_type": "execute_result",
          "data": {
            "text/plain": [
              "[1, 2, 3]"
            ]
          },
          "metadata": {},
          "execution_count": 59
        }
      ]
    },
    {
      "cell_type": "markdown",
      "source": [
        "####Variadic Arguments"
      ],
      "metadata": {
        "id": "_RLsu4ekPIEN"
      }
    },
    {
      "cell_type": "code",
      "source": [
        "def product(first, *args):\n",
        "  result = first\n",
        "  for x in args: # args is a tuple, the extra elements are placed in there\n",
        "    result = result * x\n",
        "  return result"
      ],
      "metadata": {
        "id": "-QsPbWvoPNgM"
      },
      "execution_count": 60,
      "outputs": []
    },
    {
      "cell_type": "markdown",
      "source": [
        "Default parameter values are evaluated once when the function is first\n",
        "defined, not each time the function is called.\n",
        "\n",
        "It is better to use immutable\n",
        "objects for default argument values—numbers, strings, Booleans, None."
      ],
      "metadata": {
        "id": "6_GCvCiIOl1e"
      }
    },
    {
      "cell_type": "markdown",
      "source": [
        "####Keyword Arguments"
      ],
      "metadata": {
        "id": "MrvmbZVbPw7V"
      }
    },
    {
      "cell_type": "markdown",
      "source": [
        "Order of the arguments doesn’t matter as\n",
        "long as each required parameter gets a single value.\n",
        "\n",
        "If there are positional they must appear first."
      ],
      "metadata": {
        "id": "prD1kEV_P7f3"
      }
    },
    {
      "cell_type": "code",
      "source": [
        "def func(w, x, y, z):\n",
        "  pass\n",
        "  # statements\n",
        "# Keyword argument invocation\n",
        "func(x=3, y=22, w='hello', z=[1, 2])\n",
        "func('hello', 3, z=[1, 2], y=22)\n",
        "#func(3, 22, w='hello', z=[1, 2]) # TypeError. Multiple values for w"
      ],
      "metadata": {
        "id": "CYEiuNjdPxJR"
      },
      "execution_count": 61,
      "outputs": []
    },
    {
      "cell_type": "markdown",
      "source": [
        "If desired, it is possible to force the use of keyword arguments. This is done by listing parameters after a * argument or just by including a single * in the definition."
      ],
      "metadata": {
        "id": "05FIF-jkQ7j4"
      }
    },
    {
      "cell_type": "code",
      "source": [
        "def read_data(filename, *, debug=False):\n",
        "  pass\n",
        "\n",
        "# data = read_data('Data.csv', True) # NO. TypeError\n",
        "data = read_data('Data.csv', debug=True) # Yes."
      ],
      "metadata": {
        "id": "bN2eMc3uRHBy"
      },
      "execution_count": 62,
      "outputs": []
    },
    {
      "cell_type": "markdown",
      "source": [
        "####Variadic Keyword Arguments"
      ],
      "metadata": {
        "id": "iOnSpak1RTHY"
      }
    },
    {
      "cell_type": "code",
      "source": [
        "def make_table(data, **parms):\n",
        "  # Get configuration parameters from parms (a dict)\n",
        "  pass\n",
        "items = [1, 2, 3]\n",
        "make_table(items, fgcolor='black', bgcolor='white', border=1,borderstyle='grooved', cellpadding=10, width=400)"
      ],
      "metadata": {
        "id": "2ETDtsZDRSzE"
      },
      "execution_count": 63,
      "outputs": []
    },
    {
      "cell_type": "markdown",
      "source": [
        "####Functions Accepting All Inputs"
      ],
      "metadata": {
        "id": "byBPlQOPRvub"
      }
    },
    {
      "cell_type": "code",
      "source": [
        "def func(*args, **kwargs):\n",
        "  # args is a tuple of positional args\n",
        "  # kwargs is dictionary of keyword args\n",
        "  pass"
      ],
      "metadata": {
        "id": "7bRmtGmLR3CK"
      },
      "execution_count": 64,
      "outputs": []
    },
    {
      "cell_type": "markdown",
      "source": [
        "####Positional-Only Arguments"
      ],
      "metadata": {
        "id": "9eLZ4uC3RvWF"
      }
    },
    {
      "cell_type": "code",
      "source": [
        "def func(x, y, /):\n",
        "  pass\n",
        "func(1, 2) # Ok\n",
        "# func(1, y=2) # Error"
      ],
      "metadata": {
        "id": "jMEjL-ARSiIs"
      },
      "execution_count": 65,
      "outputs": []
    },
    {
      "cell_type": "markdown",
      "source": [
        "####Scoping Rules"
      ],
      "metadata": {
        "id": "uXxFh5OJdnlX"
      }
    },
    {
      "cell_type": "markdown",
      "source": [
        "Each time a function executes, a local namespace is created, an environment that contains the names and values of the\n",
        "function parameters as well as all variables that are assigned inside the function body. The binding of names is known in advance when a function is defined and all names assigned within the function body are bound to the local environment. All other names that are used but not assigned in the function body (the free variables) are dynamically found in the global namespace which is always the enclosing module where a function was defined.\n",
        "\n",
        "Variables in nested functions are bound using lexical scoping. That is,\n",
        "names are resolved first in the local scope and then in successive enclosing scopes from the innermost scope to the outermost scope. Not a\n",
        "dynamic process—the binding of names is determined once at function\n",
        "definition time based on syntax.\n",
        "\n",
        "\n",
        "Variable names never change their scope —they are either global variables or local variables, and this is determined at function definition time."
      ],
      "metadata": {
        "id": "qkvYAU-SdZSN"
      }
    },
    {
      "cell_type": "code",
      "source": [
        "x = 42\n",
        "def func():\n",
        "  print(x) # Fails. UnboundLocalError\n",
        "x = 13\n",
        "func()"
      ],
      "metadata": {
        "id": "67QPIHmneAd3",
        "colab": {
          "base_uri": "https://localhost:8080/"
        },
        "outputId": "0f5b424e-ccfa-4f1a-b3a1-21976856911c"
      },
      "execution_count": 66,
      "outputs": [
        {
          "output_type": "stream",
          "name": "stdout",
          "text": [
            "13\n"
          ]
        }
      ]
    },
    {
      "cell_type": "markdown",
      "source": [
        "global declares names as belonging to the global namespace, and it’s necessary when a global variable needs to be modified.\n",
        "\n",
        "Use of the global statement is usually considered poor Python style.\n",
        "\n",
        "Consider using a class definition and modify state by mutating an instance or class variable instead\n",
        "\n"
      ],
      "metadata": {
        "id": "UHBy3XuOelmm"
      }
    },
    {
      "cell_type": "code",
      "source": [
        "x = 42\n",
        "y = 37\n",
        "def func():\n",
        "  global x # 'x' is in global namespace\n",
        "  x = 13\n",
        "  y = 0\n",
        "func()\n",
        "# x is now 13. y is still 37."
      ],
      "metadata": {
        "id": "bL8sLDcaecUy"
      },
      "execution_count": 67,
      "outputs": []
    },
    {
      "cell_type": "code",
      "source": [
        "class Config:\n",
        "  x = 42\n",
        "def func():\n",
        "  Config.x = 13"
      ],
      "metadata": {
        "id": "1e5f2wN0e5bv"
      },
      "execution_count": 68,
      "outputs": []
    },
    {
      "cell_type": "markdown",
      "source": [
        "nonlocal cannot be used to refer to a global variable—it must reference a\n",
        "local variable in an outer scope."
      ],
      "metadata": {
        "id": "kRJZSYksftws"
      }
    },
    {
      "cell_type": "code",
      "source": [
        "def countdown(start):\n",
        "  n = start\n",
        "  def display():\n",
        "    print('T-minus', n)\n",
        "  def decrement():\n",
        "    nonlocal n\n",
        "  n -= 1 # Modifies the outer n\n",
        "  while n > 0:\n",
        "    display()\n",
        "    decrement()"
      ],
      "metadata": {
        "id": "pqfKcky2f1a1"
      },
      "execution_count": 69,
      "outputs": []
    },
    {
      "cell_type": "markdown",
      "source": [
        "####Lambda"
      ],
      "metadata": {
        "id": "xmfipYXkgMYl"
      }
    },
    {
      "cell_type": "markdown",
      "source": [
        "####Closures"
      ],
      "metadata": {
        "id": "IXTY9_GigJlZ"
      }
    },
    {
      "cell_type": "markdown",
      "source": [],
      "metadata": {
        "id": "QbY3C6y1TfN9"
      }
    },
    {
      "cell_type": "markdown",
      "source": [
        "#Generators"
      ],
      "metadata": {
        "id": "594t8bsgPrCs"
      }
    },
    {
      "cell_type": "markdown",
      "source": [
        "Unlike a list comprehension, a generator expression does not create an object that\n",
        "works like a sequence. It can’t be indexed, and none of the usual list operations (such as\n",
        "append()) will work. However, the items produced by a generator expression can be\n",
        "converted into a list using list():\n",
        "\n",
        "`clist = list(comments)`"
      ],
      "metadata": {
        "id": "n-JOHWe4Ps0t"
      }
    }
  ]
}